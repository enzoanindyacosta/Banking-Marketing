{
  "nbformat": 4,
  "nbformat_minor": 0,
  "metadata": {
    "colab": {
      "provenance": []
    },
    "kernelspec": {
      "name": "python3",
      "display_name": "Python 3"
    },
    "language_info": {
      "name": "python"
    }
  },
  "cells": [
    {
      "cell_type": "markdown",
      "metadata": {
        "id": "uJj8-1hdKQac"
      },
      "source": [
        "# Data Pre-processing & Cleaning for Banking and marketing\n",
        "\n",
        "\n"
      ]
    },
    {
      "cell_type": "markdown",
      "source": [
        "**Important Documentation**\n",
        "1. <a href=\"https://scikit-learn.org/stable//\">scikit learn</a>\n",
        "2. [sklearn regression metrics](https://https://scikit-learn.org/stable/modules/model_evaluation.html#regression-metrics)\n",
        "3. [Pearsonr](https://https://docs.scipy.org/doc/scipy/reference/generated/scipy.stats.pearsonr.html)\n",
        "4. [Shapiro ](https://www.spss-tutorials.com/spss-shapiro-wilk-test-for-normality/)"
      ],
      "metadata": {
        "id": "VqysOUoGGFbw"
      }
    },
    {
      "cell_type": "code",
      "metadata": {
        "id": "_DKrGLJJd7Sk"
      },
      "source": [
        "# Line Wrapping in Collaboratory Google results\n",
        "# put this in the first cell of your notebook\n",
        "\n",
        "from IPython.display import HTML, display\n",
        "\n",
        "def set_css():\n",
        "  display(HTML('''\n",
        "  <style>\n",
        "    pre {\n",
        "        white-space: pre-wrap;\n",
        "    }\n",
        "  </style>\n",
        "  '''))\n",
        "get_ipython().events.register('pre_run_cell', set_css)"
      ],
      "execution_count": null,
      "outputs": []
    },
    {
      "cell_type": "markdown",
      "metadata": {
        "id": "N4pbsHo-5OE3"
      },
      "source": [
        "### **Mount Google Drive**\n",
        "**Important**:\n",
        "Remember to re-mount for each time a new dataset is added to Google Drive"
      ]
    },
    {
      "cell_type": "code",
      "metadata": {
        "colab": {
          "base_uri": "https://localhost:8080/",
          "height": 35
        },
        "id": "Mq9NPdL50iLW",
        "outputId": "897eacde-4065-4bac-d0a1-22697101cf6c"
      },
      "source": [
        "import io\n",
        "import requests\n",
        "from google.colab import drive\n",
        "drive.mount('/content/gdrive', force_remount=True)"
      ],
      "execution_count": null,
      "outputs": [
        {
          "output_type": "display_data",
          "data": {
            "text/plain": [
              "<IPython.core.display.HTML object>"
            ],
            "text/html": [
              "\n",
              "  <style>\n",
              "    pre {\n",
              "        white-space: pre-wrap;\n",
              "    }\n",
              "  </style>\n",
              "  "
            ]
          },
          "metadata": {}
        },
        {
          "output_type": "stream",
          "name": "stdout",
          "text": [
            "Mounted at /content/gdrive\n"
          ]
        }
      ]
    },
    {
      "cell_type": "markdown",
      "metadata": {
        "id": "OlsddkI5zRPU"
      },
      "source": [
        "### **1. Handle Missing Data**\n",
        "    - Removing of missing data (Banking_Marketing.csv)\n",
        "    - Imputation (Banking_Marketing.csv)\n",
        "    - Removing Outliers (german_credit_data.csv)\n",
        "\n",
        "Dataset import as:\n",
        "- Banking_Marketing_df\n",
        "- german_credit_df"
      ]
    },
    {
      "cell_type": "code",
      "metadata": {
        "id": "izlwhelu1e0b",
        "colab": {
          "base_uri": "https://localhost:8080/",
          "height": 17
        },
        "outputId": "cac3608c-c6de-4884-db96-41f03b3982e9"
      },
      "source": [
        "# Import dataset\n",
        "import pandas as pd\n",
        "DATA_DIR_1 = \"/content/gdrive/MyDrive/Colab Notebooks/220919-ITS61504/Banking_Marketing.csv\"\n",
        "Banking_Marketing_df = pd.read_csv (DATA_DIR_1, header=0)"
      ],
      "execution_count": null,
      "outputs": [
        {
          "output_type": "display_data",
          "data": {
            "text/plain": [
              "<IPython.core.display.HTML object>"
            ],
            "text/html": [
              "\n",
              "  <style>\n",
              "    pre {\n",
              "        white-space: pre-wrap;\n",
              "    }\n",
              "  </style>\n",
              "  "
            ]
          },
          "metadata": {}
        }
      ]
    },
    {
      "cell_type": "markdown",
      "metadata": {
        "id": "6yGoV6MqiZ9S"
      },
      "source": [
        "### **1.1 - Removing of Data**"
      ]
    },
    {
      "cell_type": "code",
      "metadata": {
        "colab": {
          "base_uri": "https://localhost:8080/",
          "height": 410
        },
        "id": "7L_ie5jZRpJ9",
        "outputId": "058739f1-a205-431c-f474-357bbfafb24d"
      },
      "source": [
        "# Determine the datatype of Each Column by using dtypes\n",
        "print (Banking_Marketing_df.dtypes)"
      ],
      "execution_count": null,
      "outputs": [
        {
          "output_type": "display_data",
          "data": {
            "text/plain": [
              "<IPython.core.display.HTML object>"
            ],
            "text/html": [
              "\n",
              "  <style>\n",
              "    pre {\n",
              "        white-space: pre-wrap;\n",
              "    }\n",
              "  </style>\n",
              "  "
            ]
          },
          "metadata": {}
        },
        {
          "output_type": "stream",
          "name": "stdout",
          "text": [
            "age               float64\n",
            "job                object\n",
            "marital            object\n",
            "education          object\n",
            "default            object\n",
            "housing            object\n",
            "loan               object\n",
            "contact            object\n",
            "month              object\n",
            "day_of_week        object\n",
            "duration          float64\n",
            "campaign            int64\n",
            "pdays               int64\n",
            "previous            int64\n",
            "poutcome           object\n",
            "emp_var_rate      float64\n",
            "cons_price_idx    float64\n",
            "cons_conf_idx     float64\n",
            "euribor3m         float64\n",
            "nr_employed       float64\n",
            "y                   int64\n",
            "dtype: object\n"
          ]
        }
      ]
    },
    {
      "cell_type": "code",
      "metadata": {
        "colab": {
          "base_uri": "https://localhost:8080/",
          "height": 428
        },
        "id": "s2iW5WLmRuYq",
        "outputId": "4229d15f-9e46-4aa2-c428-5c218f0f2226"
      },
      "source": [
        "print(\"Find missing value of each column using isna()\")\n",
        "print (Banking_Marketing_df.isna().sum())"
      ],
      "execution_count": null,
      "outputs": [
        {
          "output_type": "display_data",
          "data": {
            "text/plain": [
              "<IPython.core.display.HTML object>"
            ],
            "text/html": [
              "\n",
              "  <style>\n",
              "    pre {\n",
              "        white-space: pre-wrap;\n",
              "    }\n",
              "  </style>\n",
              "  "
            ]
          },
          "metadata": {}
        },
        {
          "output_type": "stream",
          "name": "stdout",
          "text": [
            "Find missing value of each column using isna()\n",
            "age               2\n",
            "job               0\n",
            "marital           0\n",
            "education         0\n",
            "default           0\n",
            "housing           0\n",
            "loan              0\n",
            "contact           6\n",
            "month             0\n",
            "day_of_week       0\n",
            "duration          7\n",
            "campaign          0\n",
            "pdays             0\n",
            "previous          0\n",
            "poutcome          0\n",
            "emp_var_rate      0\n",
            "cons_price_idx    0\n",
            "cons_conf_idx     0\n",
            "euribor3m         0\n",
            "nr_employed       0\n",
            "y                 0\n",
            "dtype: int64\n"
          ]
        }
      ]
    },
    {
      "cell_type": "code",
      "metadata": {
        "id": "T3_L3sTry_1u",
        "colab": {
          "base_uri": "https://localhost:8080/",
          "height": 446
        },
        "outputId": "2aa9e53e-2943-427c-ea63-318afd51c82a"
      },
      "source": [
        "print(\"\\nRemove all rows with missing data by using dropna()\")\n",
        "data = Banking_Marketing_df.dropna ()\n",
        "print(data.isna().sum())"
      ],
      "execution_count": null,
      "outputs": [
        {
          "output_type": "display_data",
          "data": {
            "text/plain": [
              "<IPython.core.display.HTML object>"
            ],
            "text/html": [
              "\n",
              "  <style>\n",
              "    pre {\n",
              "        white-space: pre-wrap;\n",
              "    }\n",
              "  </style>\n",
              "  "
            ]
          },
          "metadata": {}
        },
        {
          "output_type": "stream",
          "name": "stdout",
          "text": [
            "\n",
            "Remove all rows with missing data by using dropna()\n",
            "age               0\n",
            "job               0\n",
            "marital           0\n",
            "education         0\n",
            "default           0\n",
            "housing           0\n",
            "loan              0\n",
            "contact           0\n",
            "month             0\n",
            "day_of_week       0\n",
            "duration          0\n",
            "campaign          0\n",
            "pdays             0\n",
            "previous          0\n",
            "poutcome          0\n",
            "emp_var_rate      0\n",
            "cons_price_idx    0\n",
            "cons_conf_idx     0\n",
            "euribor3m         0\n",
            "nr_employed       0\n",
            "y                 0\n",
            "dtype: int64\n"
          ]
        }
      ]
    },
    {
      "cell_type": "code",
      "metadata": {
        "colab": {
          "base_uri": "https://localhost:8080/",
          "height": 410
        },
        "id": "QDmyjT-8SuIY",
        "outputId": "bee78fd7-dc27-4cf1-ec41-02d2cfde3183"
      },
      "source": [
        "print(Banking_Marketing_df.isna().sum())"
      ],
      "execution_count": null,
      "outputs": [
        {
          "output_type": "display_data",
          "data": {
            "text/plain": [
              "<IPython.core.display.HTML object>"
            ],
            "text/html": [
              "\n",
              "  <style>\n",
              "    pre {\n",
              "        white-space: pre-wrap;\n",
              "    }\n",
              "  </style>\n",
              "  "
            ]
          },
          "metadata": {}
        },
        {
          "output_type": "stream",
          "name": "stdout",
          "text": [
            "age               2\n",
            "job               0\n",
            "marital           0\n",
            "education         0\n",
            "default           0\n",
            "housing           0\n",
            "loan              0\n",
            "contact           6\n",
            "month             0\n",
            "day_of_week       0\n",
            "duration          7\n",
            "campaign          0\n",
            "pdays             0\n",
            "previous          0\n",
            "poutcome          0\n",
            "emp_var_rate      0\n",
            "cons_price_idx    0\n",
            "cons_conf_idx     0\n",
            "euribor3m         0\n",
            "nr_employed       0\n",
            "y                 0\n",
            "dtype: int64\n"
          ]
        }
      ]
    },
    {
      "cell_type": "markdown",
      "metadata": {
        "id": "zSUhJUjfzLz6"
      },
      "source": [
        "### **1.2 - Imputation**\n",
        "Dataset: Banking_Marketing.csv"
      ]
    },
    {
      "cell_type": "code",
      "metadata": {
        "colab": {
          "base_uri": "https://localhost:8080/",
          "height": 481
        },
        "id": "jmhh8xOITKIs",
        "outputId": "047929c3-1284-4467-8629-499ae48caa7d"
      },
      "source": [
        "# Computation of the Mean value by using mean ()\n",
        "mean_age = Banking_Marketing_df.age.mean ()\n",
        "print()\n",
        "print (\"Mean age: %.2f\" % mean_age)\n",
        "\n",
        "# Impute the missing data with its mean by using fillna ()\n",
        "Banking_Marketing_df.age.fillna(mean_age, inplace=True)\n",
        "print(\"\\nImpute missing data with mean value:\")\n",
        "print (Banking_Marketing_df.isna().sum())"
      ],
      "execution_count": null,
      "outputs": [
        {
          "output_type": "display_data",
          "data": {
            "text/plain": [
              "<IPython.core.display.HTML object>"
            ],
            "text/html": [
              "\n",
              "  <style>\n",
              "    pre {\n",
              "        white-space: pre-wrap;\n",
              "    }\n",
              "  </style>\n",
              "  "
            ]
          },
          "metadata": {}
        },
        {
          "output_type": "stream",
          "name": "stdout",
          "text": [
            "\n",
            "Mean age: 40.02\n",
            "\n",
            "Impute missing data with mean value:\n",
            "age               0\n",
            "job               0\n",
            "marital           0\n",
            "education         0\n",
            "default           0\n",
            "housing           0\n",
            "loan              0\n",
            "contact           6\n",
            "month             0\n",
            "day_of_week       0\n",
            "duration          7\n",
            "campaign          0\n",
            "pdays             0\n",
            "previous          0\n",
            "poutcome          0\n",
            "emp_var_rate      0\n",
            "cons_price_idx    0\n",
            "cons_conf_idx     0\n",
            "euribor3m         0\n",
            "nr_employed       0\n",
            "y                 0\n",
            "dtype: int64\n"
          ]
        }
      ]
    },
    {
      "cell_type": "code",
      "source": [
        "# Computation of mean value by using mean ()\n",
        "mean_duration = Banking_Marketing_df.duration.mean()\n",
        "print (\"\\nMean duration: %.2f\" % mean_duration)"
      ],
      "metadata": {
        "colab": {
          "base_uri": "https://localhost:8080/",
          "height": 53
        },
        "id": "LXH8xpDNcGGY",
        "outputId": "92a66bbd-5205-48d9-9063-7041f23eebbc"
      },
      "execution_count": null,
      "outputs": [
        {
          "output_type": "display_data",
          "data": {
            "text/plain": [
              "<IPython.core.display.HTML object>"
            ],
            "text/html": [
              "\n",
              "  <style>\n",
              "    pre {\n",
              "        white-space: pre-wrap;\n",
              "    }\n",
              "  </style>\n",
              "  "
            ]
          },
          "metadata": {}
        },
        {
          "output_type": "stream",
          "name": "stdout",
          "text": [
            "\n",
            "Mean duration: 258.27\n"
          ]
        }
      ]
    },
    {
      "cell_type": "code",
      "metadata": {
        "colab": {
          "base_uri": "https://localhost:8080/",
          "height": 481
        },
        "id": "KIKcWwqOTppA",
        "outputId": "9f4e059e-b895-44c0-de4c-4ba6d699e4ff"
      },
      "source": [
        "# Computation of Median value by using median ()\n",
        "# used median because the 'duration' variable is too diverse\n",
        "median_duration = Banking_Marketing_df.duration.median()\n",
        "print (\"\\nMedian duration: %.2f\" % median_duration)\n",
        "\n",
        "# Impute the missing data with its median by using fillna ()\n",
        "Banking_Marketing_df.duration.fillna(median_duration, inplace=True)\n",
        "print(\"\\nImpute missing data with median value:\")\n",
        "print (Banking_Marketing_df.isna().sum())"
      ],
      "execution_count": null,
      "outputs": [
        {
          "output_type": "display_data",
          "data": {
            "text/plain": [
              "<IPython.core.display.HTML object>"
            ],
            "text/html": [
              "\n",
              "  <style>\n",
              "    pre {\n",
              "        white-space: pre-wrap;\n",
              "    }\n",
              "  </style>\n",
              "  "
            ]
          },
          "metadata": {}
        },
        {
          "output_type": "stream",
          "name": "stdout",
          "text": [
            "\n",
            "Median duration: 180.00\n",
            "\n",
            "Impute missing data with median value:\n",
            "age               0\n",
            "job               0\n",
            "marital           0\n",
            "education         0\n",
            "default           0\n",
            "housing           0\n",
            "loan              0\n",
            "contact           6\n",
            "month             0\n",
            "day_of_week       0\n",
            "duration          0\n",
            "campaign          0\n",
            "pdays             0\n",
            "previous          0\n",
            "poutcome          0\n",
            "emp_var_rate      0\n",
            "cons_price_idx    0\n",
            "cons_conf_idx     0\n",
            "euribor3m         0\n",
            "nr_employed       0\n",
            "y                 0\n",
            "dtype: int64\n"
          ]
        }
      ]
    },
    {
      "cell_type": "code",
      "metadata": {
        "id": "iJt4D4EDzH6E",
        "colab": {
          "base_uri": "https://localhost:8080/",
          "height": 1000
        },
        "outputId": "5e8a6992-16d7-46d8-c2f2-f2a1bcaacaa2"
      },
      "source": [
        "# Computation of the Mean value by using mean ()\n",
        "mean_age = Banking_Marketing_df.age.mean ()\n",
        "print()\n",
        "print (\"Mean age: %.2f\" % mean_age)\n",
        "\n",
        "# Impute the missing data with its mean by using fillna ()\n",
        "Banking_Marketing_df.age.fillna(mean_age, inplace=True)\n",
        "print(\"\\nImpute missing data with mean value:\")\n",
        "print (Banking_Marketing_df.isna().sum())\n",
        "\n",
        "# Computation of Median value by using median ()\n",
        "# used median because the 'duration' variable is too diverse\n",
        "median_duration = Banking_Marketing_df.duration.median()\n",
        "print (\"\\nMedian duration: %.2f\" % median_duration)\n",
        "\n",
        "# Impute the missing data with its median by using fillna ()\n",
        "Banking_Marketing_df.duration.fillna(median_duration, inplace=True)\n",
        "print(\"\\nImpute missing data with median value:\")\n",
        "print (Banking_Marketing_df.isna().sum())\n",
        "\n",
        "# Impute Categorical Data with its mode by using mode ()\n",
        "# find out the mode\n",
        "mode_contact = Banking_Marketing_df.contact.mode()[0]\n",
        "print(\"\\nImpute categorical data with its mode:\")\n",
        "print (mode_contact)\n",
        "\n",
        "# impute using fillna. Used mode to find the most popular contact\n",
        "Banking_Marketing_df.contact.fillna (mode_contact, inplace = True)\n",
        "print(\"\\nImpute missing data with mode (most popular contact):\")\n",
        "print (Banking_Marketing_df.isna().sum())"
      ],
      "execution_count": null,
      "outputs": [
        {
          "output_type": "display_data",
          "data": {
            "text/plain": [
              "<IPython.core.display.HTML object>"
            ],
            "text/html": [
              "\n",
              "  <style>\n",
              "    pre {\n",
              "        white-space: pre-wrap;\n",
              "    }\n",
              "  </style>\n",
              "  "
            ]
          },
          "metadata": {}
        },
        {
          "output_type": "stream",
          "name": "stdout",
          "text": [
            "\n",
            "Mean age: 40.02\n",
            "\n",
            "Impute missing data with mean value:\n",
            "age               0\n",
            "job               0\n",
            "marital           0\n",
            "education         0\n",
            "default           0\n",
            "housing           0\n",
            "loan              0\n",
            "contact           6\n",
            "month             0\n",
            "day_of_week       0\n",
            "duration          0\n",
            "campaign          0\n",
            "pdays             0\n",
            "previous          0\n",
            "poutcome          0\n",
            "emp_var_rate      0\n",
            "cons_price_idx    0\n",
            "cons_conf_idx     0\n",
            "euribor3m         0\n",
            "nr_employed       0\n",
            "y                 0\n",
            "dtype: int64\n",
            "\n",
            "Median duration: 180.00\n",
            "\n",
            "Impute missing data with median value:\n",
            "age               0\n",
            "job               0\n",
            "marital           0\n",
            "education         0\n",
            "default           0\n",
            "housing           0\n",
            "loan              0\n",
            "contact           6\n",
            "month             0\n",
            "day_of_week       0\n",
            "duration          0\n",
            "campaign          0\n",
            "pdays             0\n",
            "previous          0\n",
            "poutcome          0\n",
            "emp_var_rate      0\n",
            "cons_price_idx    0\n",
            "cons_conf_idx     0\n",
            "euribor3m         0\n",
            "nr_employed       0\n",
            "y                 0\n",
            "dtype: int64\n",
            "\n",
            "Impute categorical data with its mode:\n",
            "cellular\n",
            "\n",
            "Impute missing data with mode (most popular contact):\n",
            "age               0\n",
            "job               0\n",
            "marital           0\n",
            "education         0\n",
            "default           0\n",
            "housing           0\n",
            "loan              0\n",
            "contact           0\n",
            "month             0\n",
            "day_of_week       0\n",
            "duration          0\n",
            "campaign          0\n",
            "pdays             0\n",
            "previous          0\n",
            "poutcome          0\n",
            "emp_var_rate      0\n",
            "cons_price_idx    0\n",
            "cons_conf_idx     0\n",
            "euribor3m         0\n",
            "nr_employed       0\n",
            "y                 0\n",
            "dtype: int64\n"
          ]
        }
      ]
    },
    {
      "cell_type": "markdown",
      "metadata": {
        "id": "Be0_gJ0w-ST5"
      },
      "source": [
        "### **1.3 - Removing Outliers**\n",
        "Dataset: german_credit_data.csv"
      ]
    },
    {
      "cell_type": "code",
      "metadata": {
        "id": "V9BKKvRk_vYK",
        "colab": {
          "base_uri": "https://localhost:8080/",
          "height": 17
        },
        "outputId": "1c9c7dcd-f721-45d8-bd0b-b8c17bcbf942"
      },
      "source": [
        "DATA_DIR_2 = \"/content/gdrive/MyDrive/Colab Notebooks/220919-ITS61504/german_credit_data.csv\"\n",
        "german_credit_df = pd.read_csv (DATA_DIR_2, header=0)"
      ],
      "execution_count": null,
      "outputs": [
        {
          "output_type": "display_data",
          "data": {
            "text/plain": [
              "<IPython.core.display.HTML object>"
            ],
            "text/html": [
              "\n",
              "  <style>\n",
              "    pre {\n",
              "        white-space: pre-wrap;\n",
              "    }\n",
              "  </style>\n",
              "  "
            ]
          },
          "metadata": {}
        }
      ]
    },
    {
      "cell_type": "code",
      "metadata": {
        "colab": {
          "base_uri": "https://localhost:8080/",
          "height": 35
        },
        "id": "zBPWWX33SuBk",
        "outputId": "8aa1e019-4978-4efd-d73c-eb282ab7c54b"
      },
      "source": [
        "german_credit_df.shape"
      ],
      "execution_count": null,
      "outputs": [
        {
          "output_type": "display_data",
          "data": {
            "text/plain": [
              "<IPython.core.display.HTML object>"
            ],
            "text/html": [
              "\n",
              "  <style>\n",
              "    pre {\n",
              "        white-space: pre-wrap;\n",
              "    }\n",
              "  </style>\n",
              "  "
            ]
          },
          "metadata": {}
        },
        {
          "output_type": "execute_result",
          "data": {
            "text/plain": [
              "(1000, 10)"
            ]
          },
          "metadata": {},
          "execution_count": 15
        }
      ]
    },
    {
      "cell_type": "code",
      "metadata": {
        "id": "6vFTNiFG6cyS",
        "colab": {
          "base_uri": "https://localhost:8080/",
          "height": 1000
        },
        "outputId": "c65f8179-bc3e-4f66-a2be-b273f4a4efcb"
      },
      "source": [
        "# Display a BoxPlot\n",
        "import pandas as pd\n",
        "import numpy as np\n",
        "import matplotlib\n",
        "import seaborn as sbn\n",
        "sbn.boxplot(german_credit_df['Age'])\n",
        "# sbn.boxplot(german_credit_df['Age'], showfliers = False)\n",
        "\n",
        "# Compute the Interquartile Range (IQR)\n",
        "Q1 = german_credit_df['Age'].quantile(0.25)\n",
        "Q3 = german_credit_df['Age'].quantile(0.75)\n",
        "IQR = Q3 - Q1\n",
        "print (\"IQR: %.2f\" %IQR)\n",
        "\n",
        "# Calculate the Lower and Upper Fence\n",
        "Lower_Fence = Q1 - (1.5 * IQR)\n",
        "print (\"Lower_Fence: %.2f\" %Lower_Fence)\n",
        "Upper_Fence = Q3 + (1.5 * IQR)\n",
        "print (\"Upper_Fence: %.2f\" %Upper_Fence)\n",
        "\n",
        "# Display Outliers and Filtering Out the Outliers\n",
        "print(\"\\nDisplay Outliers\")\n",
        "print (german_credit_df[((german_credit_df[\"Age\"] < Lower_Fence) | (german_credit_df[\"Age\"] > Upper_Fence))])\n",
        "\n",
        "# display data with outliers filtered out, use ~ to filter\n",
        "print(\"\\nDisplay data without outliers\")\n",
        "print (german_credit_df[~((german_credit_df[\"Age\"] < Lower_Fence) | (german_credit_df[\"Age\"] > Upper_Fence))])"
      ],
      "execution_count": null,
      "outputs": [
        {
          "output_type": "display_data",
          "data": {
            "text/plain": [
              "<IPython.core.display.HTML object>"
            ],
            "text/html": [
              "\n",
              "  <style>\n",
              "    pre {\n",
              "        white-space: pre-wrap;\n",
              "    }\n",
              "  </style>\n",
              "  "
            ]
          },
          "metadata": {}
        },
        {
          "output_type": "stream",
          "name": "stdout",
          "text": [
            "IQR: 15.00\n",
            "Lower_Fence: 4.50\n",
            "Upper_Fence: 64.50\n",
            "\n",
            "Display Outliers\n",
            "     Unnamed: 0  Age     Sex  Job Housing Saving accounts Checking account  \\\n",
            "0             0   67    male    2     own             NaN           little   \n",
            "75           75   66    male    3    free          little           little   \n",
            "137         137   66    male    1     own      quite rich         moderate   \n",
            "163         163   70    male    3    free          little         moderate   \n",
            "179         179   65    male    2     own          little           little   \n",
            "186         186   74  female    3    free          little         moderate   \n",
            "187         187   68    male    0    free          little         moderate   \n",
            "213         213   66    male    3     own          little             rich   \n",
            "330         330   75    male    3    free          little           little   \n",
            "430         430   74    male    1     own          little              NaN   \n",
            "438         438   65    male    0     own          little           little   \n",
            "536         536   75  female    3     own             NaN           little   \n",
            "554         554   67  female    3     own          little         moderate   \n",
            "606         606   74    male    3     own          little              NaN   \n",
            "624         624   65    male    2    free          little           little   \n",
            "723         723   66  female    1     own      quite rich         moderate   \n",
            "756         756   74    male    0     own          little             rich   \n",
            "774         774   66    male    0    free      quite rich             rich   \n",
            "779         779   67  female    2     own          little         moderate   \n",
            "807         807   65    male    2     own             NaN              NaN   \n",
            "846         846   68    male    2    rent             NaN              NaN   \n",
            "883         883   65  female    0     own          little              NaN   \n",
            "917         917   68    male    3     own          little           little   \n",
            "\n",
            "     Credit amount  Duration    Purpose  \n",
            "0             1169         6   radio/TV  \n",
            "75            1526        12        car  \n",
            "137            766        12   radio/TV  \n",
            "163           7308        10        car  \n",
            "179            571        21        car  \n",
            "186           5129         9        car  \n",
            "187           1175        16        car  \n",
            "213           1908        30   business  \n",
            "330           6615        24        car  \n",
            "430           3448         5   business  \n",
            "438           3394        42    repairs  \n",
            "536           1374         6        car  \n",
            "554           1199         9  education  \n",
            "606           4526        24   business  \n",
            "624           2600        18   radio/TV  \n",
            "723            790         9   radio/TV  \n",
            "756           1299         6        car  \n",
            "774           1480        12        car  \n",
            "779           3872        18    repairs  \n",
            "807            930        12   radio/TV  \n",
            "846           6761        18        car  \n",
            "883           1098        18   radio/TV  \n",
            "917          14896         6        car  \n",
            "\n",
            "Display data without outliers\n",
            "     Unnamed: 0  Age     Sex  Job Housing Saving accounts Checking account  \\\n",
            "1             1   22  female    2     own          little         moderate   \n",
            "2             2   49    male    1     own          little              NaN   \n",
            "3             3   45    male    2    free          little           little   \n",
            "4             4   53    male    2    free          little           little   \n",
            "5             5   35    male    1    free             NaN              NaN   \n",
            "..          ...  ...     ...  ...     ...             ...              ...   \n",
            "995         995   31  female    1     own          little              NaN   \n",
            "996         996   40    male    3     own          little           little   \n",
            "997         997   38    male    2     own          little              NaN   \n",
            "998         998   23    male    2    free          little           little   \n",
            "999         999   27    male    2     own        moderate         moderate   \n",
            "\n",
            "     Credit amount  Duration              Purpose  \n",
            "1             5951        48             radio/TV  \n",
            "2             2096        12            education  \n",
            "3             7882        42  furniture/equipment  \n",
            "4             4870        24                  car  \n",
            "5             9055        36            education  \n",
            "..             ...       ...                  ...  \n",
            "995           1736        12  furniture/equipment  \n",
            "996           3857        30                  car  \n",
            "997            804        12             radio/TV  \n",
            "998           1845        45             radio/TV  \n",
            "999           4576        45                  car  \n",
            "\n",
            "[977 rows x 10 columns]\n"
          ]
        },
        {
          "output_type": "stream",
          "name": "stderr",
          "text": [
            "/usr/local/lib/python3.7/dist-packages/seaborn/_decorators.py:43: FutureWarning: Pass the following variable as a keyword arg: x. From version 0.12, the only valid positional argument will be `data`, and passing other arguments without an explicit keyword will result in an error or misinterpretation.\n",
            "  FutureWarning\n"
          ]
        },
        {
          "output_type": "display_data",
          "data": {
            "text/plain": [
              "<Figure size 432x288 with 1 Axes>"
            ],
            "image/png": "[encoded data removed]"
          },
          "metadata": {
            "needs_background": "light"
          }
        }
      ]
    },
    {
      "cell_type": "code",
      "source": [
        "# Display a BoxPlot\n",
        "import pandas as pd\n",
        "import numpy as np\n",
        "import matplotlib\n",
        "import seaborn as sbn\n",
        "sbn.boxplot(german_credit_df['Age'])\n",
        "# sbn.boxplot(german_credit_df['Age'], showfliers = False)\n",
        "\n",
        "# Compute the Interquartile Range (IQR)\n",
        "Q1 = german_credit_df['Age'].quantile(0.25)\n",
        "Q3 = german_credit_df['Age'].quantile(0.75)\n",
        "IQR = Q3 - Q1\n",
        "print (\"IQR: %.2f\" %IQR)\n",
        "\n",
        "# Calculate the Lower and Upper Fence\n",
        "Lower_Fence = Q1 - (1.5 * IQR)\n",
        "print (\"Lower_Fence: %.2f\" %Lower_Fence)\n",
        "Upper_Fence = Q3 + (1.5 * IQR)\n",
        "print (\"Upper_Fence: %.2f\" %Upper_Fence)"
      ],
      "metadata": {
        "colab": {
          "base_uri": "https://localhost:8080/",
          "height": 404
        },
        "id": "DofrB5oYgLv-",
        "outputId": "35fbbad6-998c-4228-8150-14622f9570d5"
      },
      "execution_count": null,
      "outputs": [
        {
          "output_type": "display_data",
          "data": {
            "text/plain": [
              "<IPython.core.display.HTML object>"
            ],
            "text/html": [
              "\n",
              "  <style>\n",
              "    pre {\n",
              "        white-space: pre-wrap;\n",
              "    }\n",
              "  </style>\n",
              "  "
            ]
          },
          "metadata": {}
        },
        {
          "output_type": "stream",
          "name": "stdout",
          "text": [
            "IQR: 15.00\n",
            "Lower_Fence: 4.50\n",
            "Upper_Fence: 64.50\n"
          ]
        },
        {
          "output_type": "stream",
          "name": "stderr",
          "text": [
            "/usr/local/lib/python3.7/dist-packages/seaborn/_decorators.py:43: FutureWarning: Pass the following variable as a keyword arg: x. From version 0.12, the only valid positional argument will be `data`, and passing other arguments without an explicit keyword will result in an error or misinterpretation.\n",
            "  FutureWarning\n"
          ]
        },
        {
          "output_type": "display_data",
          "data": {
            "text/plain": [
              "<Figure size 432x288 with 1 Axes>"
            ],
            "image/png": "[encoded data removed]"
          },
          "metadata": {
            "needs_background": "light"
          }
        }
      ]
    },
    {
      "cell_type": "code",
      "source": [
        "# Display Outliers and Filtering Out the Outliers\n",
        "print(\"\\nDisplay Outliers\")\n",
        "print (german_credit_df[((german_credit_df[\"Age\"] < Lower_Fence) | (german_credit_df[\"Age\"] > Upper_Fence))])"
      ],
      "metadata": {
        "colab": {
          "base_uri": "https://localhost:8080/",
          "height": 928
        },
        "id": "Mzo4c__5gnDa",
        "outputId": "3b98d0f0-be94-4453-f69f-53419034506d"
      },
      "execution_count": null,
      "outputs": [
        {
          "output_type": "display_data",
          "data": {
            "text/plain": [
              "<IPython.core.display.HTML object>"
            ],
            "text/html": [
              "\n",
              "  <style>\n",
              "    pre {\n",
              "        white-space: pre-wrap;\n",
              "    }\n",
              "  </style>\n",
              "  "
            ]
          },
          "metadata": {}
        },
        {
          "output_type": "stream",
          "name": "stdout",
          "text": [
            "\n",
            "Display Outliers\n",
            "     Unnamed: 0  Age     Sex  Job Housing Saving accounts Checking account  \\\n",
            "0             0   67    male    2     own             NaN           little   \n",
            "75           75   66    male    3    free          little           little   \n",
            "137         137   66    male    1     own      quite rich         moderate   \n",
            "163         163   70    male    3    free          little         moderate   \n",
            "179         179   65    male    2     own          little           little   \n",
            "186         186   74  female    3    free          little         moderate   \n",
            "187         187   68    male    0    free          little         moderate   \n",
            "213         213   66    male    3     own          little             rich   \n",
            "330         330   75    male    3    free          little           little   \n",
            "430         430   74    male    1     own          little              NaN   \n",
            "438         438   65    male    0     own          little           little   \n",
            "536         536   75  female    3     own             NaN           little   \n",
            "554         554   67  female    3     own          little         moderate   \n",
            "606         606   74    male    3     own          little              NaN   \n",
            "624         624   65    male    2    free          little           little   \n",
            "723         723   66  female    1     own      quite rich         moderate   \n",
            "756         756   74    male    0     own          little             rich   \n",
            "774         774   66    male    0    free      quite rich             rich   \n",
            "779         779   67  female    2     own          little         moderate   \n",
            "807         807   65    male    2     own             NaN              NaN   \n",
            "846         846   68    male    2    rent             NaN              NaN   \n",
            "883         883   65  female    0     own          little              NaN   \n",
            "917         917   68    male    3     own          little           little   \n",
            "\n",
            "     Credit amount  Duration    Purpose  \n",
            "0             1169         6   radio/TV  \n",
            "75            1526        12        car  \n",
            "137            766        12   radio/TV  \n",
            "163           7308        10        car  \n",
            "179            571        21        car  \n",
            "186           5129         9        car  \n",
            "187           1175        16        car  \n",
            "213           1908        30   business  \n",
            "330           6615        24        car  \n",
            "430           3448         5   business  \n",
            "438           3394        42    repairs  \n",
            "536           1374         6        car  \n",
            "554           1199         9  education  \n",
            "606           4526        24   business  \n",
            "624           2600        18   radio/TV  \n",
            "723            790         9   radio/TV  \n",
            "756           1299         6        car  \n",
            "774           1480        12        car  \n",
            "779           3872        18    repairs  \n",
            "807            930        12   radio/TV  \n",
            "846           6761        18        car  \n",
            "883           1098        18   radio/TV  \n",
            "917          14896         6        car  \n"
          ]
        }
      ]
    },
    {
      "cell_type": "code",
      "source": [
        "# display data with outliers filtered out, use ~ to filter\n",
        "print(\"\\nDisplay data without outliers\")\n",
        "print (german_credit_df[~((german_credit_df[\"Age\"] < Lower_Fence) | (german_credit_df[\"Age\"] > Upper_Fence))])"
      ],
      "metadata": {
        "colab": {
          "base_uri": "https://localhost:8080/",
          "height": 535
        },
        "id": "lIZ9Ib49gIQr",
        "outputId": "9689350b-cd8a-4053-a2ca-27fc90b98a5d"
      },
      "execution_count": null,
      "outputs": [
        {
          "output_type": "display_data",
          "data": {
            "text/plain": [
              "<IPython.core.display.HTML object>"
            ],
            "text/html": [
              "\n",
              "  <style>\n",
              "    pre {\n",
              "        white-space: pre-wrap;\n",
              "    }\n",
              "  </style>\n",
              "  "
            ]
          },
          "metadata": {}
        },
        {
          "output_type": "stream",
          "name": "stdout",
          "text": [
            "\n",
            "Display data without outliers\n",
            "     Unnamed: 0  Age     Sex  Job Housing Saving accounts Checking account  \\\n",
            "1             1   22  female    2     own          little         moderate   \n",
            "2             2   49    male    1     own          little              NaN   \n",
            "3             3   45    male    2    free          little           little   \n",
            "4             4   53    male    2    free          little           little   \n",
            "5             5   35    male    1    free             NaN              NaN   \n",
            "..          ...  ...     ...  ...     ...             ...              ...   \n",
            "995         995   31  female    1     own          little              NaN   \n",
            "996         996   40    male    3     own          little           little   \n",
            "997         997   38    male    2     own          little              NaN   \n",
            "998         998   23    male    2    free          little           little   \n",
            "999         999   27    male    2     own        moderate         moderate   \n",
            "\n",
            "     Credit amount  Duration              Purpose  \n",
            "1             5951        48             radio/TV  \n",
            "2             2096        12            education  \n",
            "3             7882        42  furniture/equipment  \n",
            "4             4870        24                  car  \n",
            "5             9055        36            education  \n",
            "..             ...       ...                  ...  \n",
            "995           1736        12  furniture/equipment  \n",
            "996           3857        30                  car  \n",
            "997            804        12             radio/TV  \n",
            "998           1845        45             radio/TV  \n",
            "999           4576        45                  car  \n",
            "\n",
            "[977 rows x 10 columns]\n"
          ]
        }
      ]
    },
    {
      "cell_type": "markdown",
      "metadata": {
        "id": "kkELWLawbTtJ"
      },
      "source": [
        "### **Why Seaborn Boxplot still showing outliers, after removing the outliers?**\n",
        "Seaborn uses inter-quartile range to detect the outliers.\n",
        "When you remove outliers, the number of data changes thus its quantile changes\n",
        "> - means lower range and upper range changes\n",
        "> - thus it is again showing outliers\n",
        "\n",
        "Let's investigate by computing a new quantile range after remove the outliers.\n",
        "\n",
        "**Before remove outliers:**\n",
        "> - IQR: 15.00\n",
        "> - Lower_Fence: 4.50\n",
        "> - Upper_Fence: <font color = blue > 64.50\n",
        "\n",
        "**After remove outliers:**\n",
        "> - IQRb: 14.00\n",
        "> - Lower_Fence: 6.00\n",
        "> - Upper_Fence: <font color = blue > 63.00\n",
        "\n",
        "The new upper fence now is at 63, if you check the condition based on the **new upper and lower fence**, you will see there a 5 rows with outliers\n",
        "(german_credit_remOutliers[\"Age\"] < Lower_Fence_b) | (german_credit_remOutliers[\"Age\"] > Upper_Fence_b)\n",
        "\n",
        "But if you check the condition against the firstly calculated upper and lower fence, you will get an **empty array**\n",
        "print (german_credit_remOutliers[((german_credit_remOutliers[\"Age\"] < Lower_Fence) | (german_credit_remOutliers[\"Age\"] > Upper_Fence))])\n",
        "\n",
        "### What does it mean?\n",
        "The outliers are actually removed (for the attribute age of the dataframe), but Seaborn boxplot shows the outliers based on the newly calculated inter-quartile range."
      ]
    },
    {
      "cell_type": "code",
      "metadata": {
        "colab": {
          "base_uri": "https://localhost:8080/",
          "height": 35
        },
        "id": "bqynyw9tUpTL",
        "outputId": "d2f92383-2abb-4818-9635-e0f63a6f0043"
      },
      "source": [
        "german_credit_remOutliers = (german_credit_df[~((german_credit_df[\"Age\"] < Lower_Fence) | (german_credit_df[\"Age\"] > Upper_Fence))])\n",
        "german_credit_remOutliers.shape"
      ],
      "execution_count": null,
      "outputs": [
        {
          "output_type": "display_data",
          "data": {
            "text/plain": [
              "<IPython.core.display.HTML object>"
            ],
            "text/html": [
              "\n",
              "  <style>\n",
              "    pre {\n",
              "        white-space: pre-wrap;\n",
              "    }\n",
              "  </style>\n",
              "  "
            ]
          },
          "metadata": {}
        },
        {
          "output_type": "execute_result",
          "data": {
            "text/plain": [
              "(977, 10)"
            ]
          },
          "metadata": {},
          "execution_count": 23
        }
      ]
    },
    {
      "cell_type": "code",
      "metadata": {
        "colab": {
          "base_uri": "https://localhost:8080/",
          "height": 71
        },
        "id": "NQHIB0AEZX2z",
        "outputId": "b6d7332a-8ddc-4439-bda2-727abc2c0b38"
      },
      "source": [
        "# Compute new quantile range after remove outliers\n",
        "# Compute the Interquartile Range (IQR)\n",
        "Q1b = german_credit_remOutliers['Age'].quantile(0.25)\n",
        "Q3b = german_credit_remOutliers['Age'].quantile(0.75)\n",
        "IQRb = Q3b - Q1b\n",
        "print (\"IQRb: %.2f\" %IQRb)\n",
        "\n",
        "# Calculate the Lower and Upper Fence\n",
        "Lower_Fence_b = Q1b - (1.5 * IQRb)\n",
        "print (\"Lower_Fence: %.2f\" %Lower_Fence_b)\n",
        "Upper_Fence_b = Q3 + (1.5 * IQRb)\n",
        "print (\"Upper_Fence: %.2f\" %Upper_Fence_b)"
      ],
      "execution_count": null,
      "outputs": [
        {
          "output_type": "display_data",
          "data": {
            "text/plain": [
              "<IPython.core.display.HTML object>"
            ],
            "text/html": [
              "\n",
              "  <style>\n",
              "    pre {\n",
              "        white-space: pre-wrap;\n",
              "    }\n",
              "  </style>\n",
              "  "
            ]
          },
          "metadata": {}
        },
        {
          "output_type": "stream",
          "name": "stdout",
          "text": [
            "IQRb: 14.00\n",
            "Lower_Fence: 6.00\n",
            "Upper_Fence: 63.00\n"
          ]
        }
      ]
    },
    {
      "cell_type": "code",
      "metadata": {
        "colab": {
          "base_uri": "https://localhost:8080/",
          "height": 368
        },
        "id": "mk43vdUgUjxu",
        "outputId": "730ea013-0777-42e0-f84c-123aa6a94497"
      },
      "source": [
        "sbn.boxplot(german_credit_remOutliers['Age'])\n",
        "# Use showfliers=False if you want to disable outliers from boxplot"
      ],
      "execution_count": null,
      "outputs": [
        {
          "output_type": "display_data",
          "data": {
            "text/plain": [
              "<IPython.core.display.HTML object>"
            ],
            "text/html": [
              "\n",
              "  <style>\n",
              "    pre {\n",
              "        white-space: pre-wrap;\n",
              "    }\n",
              "  </style>\n",
              "  "
            ]
          },
          "metadata": {}
        },
        {
          "output_type": "stream",
          "name": "stderr",
          "text": [
            "/usr/local/lib/python3.7/dist-packages/seaborn/_decorators.py:43: FutureWarning: Pass the following variable as a keyword arg: x. From version 0.12, the only valid positional argument will be `data`, and passing other arguments without an explicit keyword will result in an error or misinterpretation.\n",
            "  FutureWarning\n"
          ]
        },
        {
          "output_type": "execute_result",
          "data": {
            "text/plain": [
              "<matplotlib.axes._subplots.AxesSubplot at 0x7fcb3e988f10>"
            ]
          },
          "metadata": {},
          "execution_count": 25
        },
        {
          "output_type": "display_data",
          "data": {
            "text/plain": [
              "<Figure size 432x288 with 1 Axes>"
            ],
            "image/png": "[encoded data removed]"
          },
          "metadata": {
            "needs_background": "light"
          }
        }
      ]
    },
    {
      "cell_type": "code",
      "metadata": {
        "colab": {
          "base_uri": "https://localhost:8080/",
          "height": 106
        },
        "id": "VB57kzTKdx3v",
        "outputId": "8cb838c0-3e02-4601-957e-7079287b3535"
      },
      "source": [
        "# Check condition based on the firstly calculated IQR → results return empty df\n",
        "# Display Outliers and Filtering Out the Outliers\n",
        "print(\"\\nDisplay Outliers\")\n",
        "print (german_credit_remOutliers[((german_credit_remOutliers[\"Age\"] < Lower_Fence) | (german_credit_remOutliers[\"Age\"] > Upper_Fence))])"
      ],
      "execution_count": null,
      "outputs": [
        {
          "output_type": "display_data",
          "data": {
            "text/plain": [
              "<IPython.core.display.HTML object>"
            ],
            "text/html": [
              "\n",
              "  <style>\n",
              "    pre {\n",
              "        white-space: pre-wrap;\n",
              "    }\n",
              "  </style>\n",
              "  "
            ]
          },
          "metadata": {}
        },
        {
          "output_type": "stream",
          "name": "stdout",
          "text": [
            "\n",
            "Display Outliers\n",
            "Empty DataFrame\n",
            "Columns: [Unnamed: 0, Age, Sex, Job, Housing, Saving accounts, Checking account, Credit amount, Duration, Purpose]\n",
            "Index: []\n"
          ]
        }
      ]
    },
    {
      "cell_type": "code",
      "metadata": {
        "colab": {
          "base_uri": "https://localhost:8080/",
          "height": 285
        },
        "id": "TosslbQPVVIM",
        "outputId": "01a6fe27-2d75-4b49-f1d3-8499c44b1c18"
      },
      "source": [
        "# Check condition based on the newly calculated IQR → results return 5 rows with outliers\n",
        "# Note that the age 64 > new upper fence 63\n",
        "# Display Outliers and Filtering Out the Outliers\n",
        "print(\"\\nDisplay Outliers\")\n",
        "print (german_credit_remOutliers[((german_credit_remOutliers[\"Age\"] < Lower_Fence_b) | (german_credit_remOutliers[\"Age\"] > Upper_Fence_b))])"
      ],
      "execution_count": null,
      "outputs": [
        {
          "output_type": "display_data",
          "data": {
            "text/plain": [
              "<IPython.core.display.HTML object>"
            ],
            "text/html": [
              "\n",
              "  <style>\n",
              "    pre {\n",
              "        white-space: pre-wrap;\n",
              "    }\n",
              "  </style>\n",
              "  "
            ]
          },
          "metadata": {}
        },
        {
          "output_type": "stream",
          "name": "stdout",
          "text": [
            "\n",
            "Display Outliers\n",
            "     Unnamed: 0  Age     Sex  Job Housing Saving accounts Checking account  \\\n",
            "219         219   64  female    2     own          little              NaN   \n",
            "629         629   64    male    1     own             NaN              NaN   \n",
            "678         678   64    male    1    rent          little           little   \n",
            "976         976   64  female    2     own          little         moderate   \n",
            "987         987   64  female    2     own        moderate              NaN   \n",
            "\n",
            "     Credit amount  Duration    Purpose  \n",
            "219           1364        10        car  \n",
            "629           3832         9  education  \n",
            "678           2384        24   radio/TV  \n",
            "976            753         6   radio/TV  \n",
            "987           1409        13   radio/TV  \n"
          ]
        }
      ]
    },
    {
      "cell_type": "markdown",
      "metadata": {
        "id": "NKgyD9_1BiA9"
      },
      "source": [
        "### **2. Data Integration**\n",
        "Dataset:  \n",
        "1. student.csv\n",
        "2. marks.csv"
      ]
    },
    {
      "cell_type": "code",
      "metadata": {
        "colab": {
          "base_uri": "https://localhost:8080/",
          "height": 17
        },
        "id": "fgEryuo6_5Qz",
        "outputId": "2f2f1933-bf82-400a-ccea-7b3838dfac9b"
      },
      "source": [
        "# Import dataset\n",
        "import pandas as pd\n",
        "DATA_DIR_3 = \"/content/gdrive/MyDrive/Colab Notebooks/220919-ITS61504/student.csv\"\n",
        "DATA_DIR_4 = \"/content/gdrive/MyDrive/Colab Notebooks/220919-ITS61504/marks.csv\"\n",
        "student_df = pd.read_csv (DATA_DIR_3, header=0)\n",
        "marks_df = pd.read_csv (DATA_DIR_4, header=0)"
      ],
      "execution_count": null,
      "outputs": [
        {
          "output_type": "display_data",
          "data": {
            "text/plain": [
              "<IPython.core.display.HTML object>"
            ],
            "text/html": [
              "\n",
              "  <style>\n",
              "    pre {\n",
              "        white-space: pre-wrap;\n",
              "    }\n",
              "  </style>\n",
              "  "
            ]
          },
          "metadata": {}
        }
      ]
    },
    {
      "cell_type": "code",
      "metadata": {
        "colab": {
          "base_uri": "https://localhost:8080/",
          "height": 428
        },
        "id": "xh_-Kl09CqFV",
        "outputId": "d65d3bd0-0e27-4e38-d13b-87a581369692"
      },
      "source": [
        "#Checking of Data\n",
        "print (student_df.head())\n",
        "print (marks_df.head())\n",
        "\n",
        "# Merging of DataFrame using the pd.merge ()\n",
        "df = pd.merge(student_df, marks_df, on = \"Student_id\")\n",
        "print (df.head (10))"
      ],
      "execution_count": null,
      "outputs": [
        {
          "output_type": "display_data",
          "data": {
            "text/plain": [
              "<IPython.core.display.HTML object>"
            ],
            "text/html": [
              "\n",
              "  <style>\n",
              "    pre {\n",
              "        white-space: pre-wrap;\n",
              "    }\n",
              "  </style>\n",
              "  "
            ]
          },
          "metadata": {}
        },
        {
          "output_type": "stream",
          "name": "stdout",
          "text": [
            "   Student_id  Age  Gender      Grade Employed\n",
            "0           1   19    Male  1st Class      yes\n",
            "1           2   20  Female  2nd Class       no\n",
            "2           3   18    Male  1st Class       no\n",
            "3           4   21  Female  2nd Class       no\n",
            "4           5   19    Male  1st Class       no\n",
            "   Student_id  Mark     City\n",
            "0           1    95  Chennai\n",
            "1           2    70    Delhi\n",
            "2           3    98   Mumbai\n",
            "3           4    75     Pune\n",
            "4           5    89    Kochi\n",
            "   Student_id  Age  Gender      Grade Employed  Mark     City\n",
            "0           1   19    Male  1st Class      yes    95  Chennai\n",
            "1           2   20  Female  2nd Class       no    70    Delhi\n",
            "2           3   18    Male  1st Class       no    98   Mumbai\n",
            "3           4   21  Female  2nd Class       no    75     Pune\n",
            "4           5   19    Male  1st Class       no    89    Kochi\n",
            "5           6   20    Male  2nd Class      yes    69  Gwalior\n",
            "6           7   19  Female  3rd Class      yes    52   Bhopal\n",
            "7           8   21    Male  3rd Class      yes    54  Chennai\n",
            "8           9   22  Female  3rd Class      yes    55    Delhi\n",
            "9          10   21    Male  1st Class       no    94   Mumbai\n"
          ]
        }
      ]
    },
    {
      "cell_type": "markdown",
      "metadata": {
        "id": "AaN9TxKCR8Il"
      },
      "source": [
        "### **3. Data Transformation**\n",
        "\n",
        "    - Replacement of Categorical Data with Numbers (student.csv)\n",
        "    - Label encoding (Banking_Marketing.csv)\n",
        "    - Transforming Data of Different Scale (Wholesale customers data.csv)\n",
        "\n",
        "**Numerical Data**\n",
        "- Discrete: Numerical data that is countable\n",
        "- Continuous: Numerical data that is measurable  \n",
        "\n",
        "**Categorical Data**\n",
        "- Ordered: Categorical data that is orderly or structured\n",
        "- Nominal: Categorical data that has no order or structure\n",
        "\n",
        "Dataset:  \n",
        "1. student.csv\n",
        "2. Banking_Marketing.csv\n",
        "3. Wholesale customers data.csv\n"
      ]
    },
    {
      "cell_type": "code",
      "metadata": {
        "colab": {
          "base_uri": "https://localhost:8080/",
          "height": 267
        },
        "id": "6zbTgkytR_SK",
        "outputId": "8d64aa53-573e-45fb-b92e-8cbd42eca087"
      },
      "source": [
        "import numpy as np\n",
        "\n",
        "# Separating Categorical Columns from Dataframe using select_dtypes()\n",
        "df_categorical = student_df.select_dtypes(exclude=[np.number]) # exclude numerical using numpy\n",
        "print(df_categorical)"
      ],
      "execution_count": null,
      "outputs": [
        {
          "output_type": "display_data",
          "data": {
            "text/plain": [
              "<IPython.core.display.HTML object>"
            ],
            "text/html": [
              "\n",
              "  <style>\n",
              "    pre {\n",
              "        white-space: pre-wrap;\n",
              "    }\n",
              "  </style>\n",
              "  "
            ]
          },
          "metadata": {}
        },
        {
          "output_type": "stream",
          "name": "stdout",
          "text": [
            "     Gender      Grade Employed\n",
            "0      Male  1st Class      yes\n",
            "1    Female  2nd Class       no\n",
            "2      Male  1st Class       no\n",
            "3    Female  2nd Class       no\n",
            "4      Male  1st Class       no\n",
            "..      ...        ...      ...\n",
            "227  Female  1st Class       no\n",
            "228    Male  2nd Class       no\n",
            "229    Male  3rd Class      yes\n",
            "230  Female  1st Class      yes\n",
            "231    Male  3rd Class      yes\n",
            "\n",
            "[232 rows x 3 columns]\n"
          ]
        }
      ]
    },
    {
      "cell_type": "markdown",
      "metadata": {
        "id": "UPMJIXayTQer"
      },
      "source": [
        "**Finding the Frequency of Distribution to Each Categorical Column**"
      ]
    },
    {
      "cell_type": "code",
      "metadata": {
        "colab": {
          "base_uri": "https://localhost:8080/",
          "height": 35
        },
        "id": "QAymxzx4Sskm",
        "outputId": "8b6f03a4-2bbb-4ca4-8163-4ecf00577549"
      },
      "source": [
        "print(df_categorical['Grade'].unique())"
      ],
      "execution_count": null,
      "outputs": [
        {
          "output_type": "display_data",
          "data": {
            "text/plain": [
              "<IPython.core.display.HTML object>"
            ],
            "text/html": [
              "\n",
              "  <style>\n",
              "    pre {\n",
              "        white-space: pre-wrap;\n",
              "    }\n",
              "  </style>\n",
              "  "
            ]
          },
          "metadata": {}
        },
        {
          "output_type": "stream",
          "name": "stdout",
          "text": [
            "['1st Class' '2nd Class' '3rd Class']\n"
          ]
        }
      ]
    },
    {
      "cell_type": "code",
      "metadata": {
        "colab": {
          "base_uri": "https://localhost:8080/",
          "height": 88
        },
        "id": "fF69iXn4Tcbs",
        "outputId": "80c31723-5ebd-475c-e352-19190ca4f544"
      },
      "source": [
        "print(df_categorical.Grade.value_counts())"
      ],
      "execution_count": null,
      "outputs": [
        {
          "output_type": "display_data",
          "data": {
            "text/plain": [
              "<IPython.core.display.HTML object>"
            ],
            "text/html": [
              "\n",
              "  <style>\n",
              "    pre {\n",
              "        white-space: pre-wrap;\n",
              "    }\n",
              "  </style>\n",
              "  "
            ]
          },
          "metadata": {}
        },
        {
          "output_type": "stream",
          "name": "stdout",
          "text": [
            "2nd Class    80\n",
            "3rd Class    80\n",
            "1st Class    72\n",
            "Name: Grade, dtype: int64\n"
          ]
        }
      ]
    },
    {
      "cell_type": "code",
      "metadata": {
        "colab": {
          "base_uri": "https://localhost:8080/",
          "height": 71
        },
        "id": "ciQlK7H6TfgD",
        "outputId": "2f192767-f4be-4b44-8c4d-7436d271170d"
      },
      "source": [
        "print(df_categorical.Gender.value_counts())"
      ],
      "execution_count": null,
      "outputs": [
        {
          "output_type": "display_data",
          "data": {
            "text/plain": [
              "<IPython.core.display.HTML object>"
            ],
            "text/html": [
              "\n",
              "  <style>\n",
              "    pre {\n",
              "        white-space: pre-wrap;\n",
              "    }\n",
              "  </style>\n",
              "  "
            ]
          },
          "metadata": {}
        },
        {
          "output_type": "stream",
          "name": "stdout",
          "text": [
            "Male      136\n",
            "Female     96\n",
            "Name: Gender, dtype: int64\n"
          ]
        }
      ]
    },
    {
      "cell_type": "code",
      "metadata": {
        "colab": {
          "base_uri": "https://localhost:8080/",
          "height": 71
        },
        "id": "0KJm43jEThVj",
        "outputId": "b3e078ff-2239-467b-cb4d-11ae27b10e59"
      },
      "source": [
        "print(df_categorical.Employed.value_counts())"
      ],
      "execution_count": null,
      "outputs": [
        {
          "output_type": "display_data",
          "data": {
            "text/plain": [
              "<IPython.core.display.HTML object>"
            ],
            "text/html": [
              "\n",
              "  <style>\n",
              "    pre {\n",
              "        white-space: pre-wrap;\n",
              "    }\n",
              "  </style>\n",
              "  "
            ]
          },
          "metadata": {}
        },
        {
          "output_type": "stream",
          "name": "stdout",
          "text": [
            "no     133\n",
            "yes     99\n",
            "Name: Employed, dtype: int64\n"
          ]
        }
      ]
    },
    {
      "cell_type": "markdown",
      "metadata": {
        "id": "_L5IcczkTjOj"
      },
      "source": [
        "### **3.1 - Replacing Categorical Data with Numbers**\n",
        "\n",
        "The following code may produce warning, but it's okay, still able to replace categorical data with numbers.\n",
        "\n",
        "Warning:\n",
        "\n",
        "*A value is trying to be set on a copy of a slice from a DataFrame*\n",
        "\n",
        "*See the caveats in the documentation: https: ...*"
      ]
    },
    {
      "cell_type": "code",
      "metadata": {
        "colab": {
          "base_uri": "https://localhost:8080/",
          "height": 106
        },
        "id": "i2eoLLYpTnyz",
        "outputId": "4265ee7b-e230-45da-f648-35a21ce86506"
      },
      "source": [
        "df_categorical.Grade.replace({\"1st Class\": 1, \"2nd Class\": 2, \"3rd Class\": 3 }, inplace=True)"
      ],
      "execution_count": null,
      "outputs": [
        {
          "output_type": "display_data",
          "data": {
            "text/plain": [
              "<IPython.core.display.HTML object>"
            ],
            "text/html": [
              "\n",
              "  <style>\n",
              "    pre {\n",
              "        white-space: pre-wrap;\n",
              "    }\n",
              "  </style>\n",
              "  "
            ]
          },
          "metadata": {}
        },
        {
          "output_type": "stream",
          "name": "stderr",
          "text": [
            "/usr/local/lib/python3.7/dist-packages/pandas/core/generic.py:6619: SettingWithCopyWarning: \n",
            "A value is trying to be set on a copy of a slice from a DataFrame\n",
            "\n",
            "See the caveats in the documentation: https://pandas.pydata.org/pandas-docs/stable/user_guide/indexing.html#returning-a-view-versus-a-copy\n",
            "  return self._update_inplace(result)\n"
          ]
        }
      ]
    },
    {
      "cell_type": "code",
      "metadata": {
        "colab": {
          "base_uri": "https://localhost:8080/",
          "height": 17
        },
        "id": "e92kViEHUEsx",
        "outputId": "c6821c56-76a9-4a5e-fddc-ce64eca8073e"
      },
      "source": [
        "df_categorical.Gender.replace({\"Male\": 0, \"Female\": 1}, inplace=True)"
      ],
      "execution_count": null,
      "outputs": [
        {
          "output_type": "display_data",
          "data": {
            "text/plain": [
              "<IPython.core.display.HTML object>"
            ],
            "text/html": [
              "\n",
              "  <style>\n",
              "    pre {\n",
              "        white-space: pre-wrap;\n",
              "    }\n",
              "  </style>\n",
              "  "
            ]
          },
          "metadata": {}
        }
      ]
    },
    {
      "cell_type": "code",
      "metadata": {
        "colab": {
          "base_uri": "https://localhost:8080/",
          "height": 17
        },
        "id": "3XIRHFgiTLa-",
        "outputId": "06ffd5cf-9910-4d6b-f35d-c2323ad6f271"
      },
      "source": [
        "df_categorical.Employed.replace({\"yes\": 1, \"no\": 2}, inplace=True)"
      ],
      "execution_count": null,
      "outputs": [
        {
          "output_type": "display_data",
          "data": {
            "text/plain": [
              "<IPython.core.display.HTML object>"
            ],
            "text/html": [
              "\n",
              "  <style>\n",
              "    pre {\n",
              "        white-space: pre-wrap;\n",
              "    }\n",
              "  </style>\n",
              "  "
            ]
          },
          "metadata": {}
        }
      ]
    },
    {
      "cell_type": "code",
      "source": [
        "# Let's check the output after replace categorical with number\n",
        "print (df_categorical.head())"
      ],
      "metadata": {
        "colab": {
          "base_uri": "https://localhost:8080/",
          "height": 124
        },
        "id": "VSMPQ0GTk4xM",
        "outputId": "11fa32ce-b124-42ad-e4aa-958ceffa8ce3"
      },
      "execution_count": null,
      "outputs": [
        {
          "output_type": "display_data",
          "data": {
            "text/plain": [
              "<IPython.core.display.HTML object>"
            ],
            "text/html": [
              "\n",
              "  <style>\n",
              "    pre {\n",
              "        white-space: pre-wrap;\n",
              "    }\n",
              "  </style>\n",
              "  "
            ]
          },
          "metadata": {}
        },
        {
          "output_type": "stream",
          "name": "stdout",
          "text": [
            "   Gender  Grade  Employed\n",
            "0       0      1         1\n",
            "1       1      2         2\n",
            "2       0      1         2\n",
            "3       1      2         2\n",
            "4       0      1         2\n"
          ]
        }
      ]
    },
    {
      "cell_type": "markdown",
      "metadata": {
        "id": "FJDPlR3yWk-m"
      },
      "source": [
        "### **3.2 - Label Encoding**\n",
        "\n",
        "This technique is used to replace each value in a categorical column with numbers from 0 to N-1.\n",
        "\n",
        "Dataset:\n",
        "- Banking_Marketing.csv  \n",
        "(this dataset already imported previously and used as 'Banking_Marketing_df')"
      ]
    },
    {
      "cell_type": "code",
      "metadata": {
        "colab": {
          "base_uri": "https://localhost:8080/",
          "height": 410
        },
        "id": "HMUHUHR6XUYa",
        "outputId": "8c7387c4-7316-4f78-ef49-854d9e1144a3"
      },
      "source": [
        "# Read Dataset and import LabelEncoder from sklearn.preprocessing package\n",
        "from sklearn.preprocessing import LabelEncoder\n",
        "\n",
        "print (Banking_Marketing_df.head())"
      ],
      "execution_count": null,
      "outputs": [
        {
          "output_type": "display_data",
          "data": {
            "text/plain": [
              "<IPython.core.display.HTML object>"
            ],
            "text/html": [
              "\n",
              "  <style>\n",
              "    pre {\n",
              "        white-space: pre-wrap;\n",
              "    }\n",
              "  </style>\n",
              "  "
            ]
          },
          "metadata": {}
        },
        {
          "output_type": "stream",
          "name": "stdout",
          "text": [
            "    age          job  marital          education  default housing loan  \\\n",
            "0  44.0  blue-collar  married           basic.4y  unknown     yes   no   \n",
            "1  53.0   technician  married            unknown       no      no   no   \n",
            "2  28.0   management   single  university.degree       no     yes   no   \n",
            "3  39.0     services  married        high.school       no      no   no   \n",
            "4  55.0      retired  married           basic.4y       no     yes   no   \n",
            "\n",
            "    contact month day_of_week  ...  campaign  pdays  previous     poutcome  \\\n",
            "0  cellular   aug         thu  ...         1    999         0  nonexistent   \n",
            "1  cellular   nov         fri  ...         1    999         0  nonexistent   \n",
            "2  cellular   jun         thu  ...         3      6         2      success   \n",
            "3  cellular   apr         fri  ...         2    999         0  nonexistent   \n",
            "4  cellular   aug         fri  ...         1      3         1      success   \n",
            "\n",
            "  emp_var_rate  cons_price_idx  cons_conf_idx  euribor3m  nr_employed  y  \n",
            "0          1.4          93.444          -36.1      4.963       5228.1  0  \n",
            "1         -0.1          93.200          -42.0      4.021       5195.8  0  \n",
            "2         -1.7          94.055          -39.8      0.729       4991.6  1  \n",
            "3         -1.8          93.075          -47.1      1.405       5099.1  0  \n",
            "4         -2.9          92.201          -31.4      0.869       5076.2  1  \n",
            "\n",
            "[5 rows x 21 columns]\n"
          ]
        }
      ]
    },
    {
      "cell_type": "code",
      "metadata": {
        "id": "YWtcjrgiXW7P",
        "colab": {
          "base_uri": "https://localhost:8080/",
          "height": 17
        },
        "outputId": "e91ac76e-c6a8-4d82-987e-885da4d843a9"
      },
      "source": [
        "# Remove Missing Data\n",
        "Banking_Marketing_df = Banking_Marketing_df.dropna()"
      ],
      "execution_count": null,
      "outputs": [
        {
          "output_type": "display_data",
          "data": {
            "text/plain": [
              "<IPython.core.display.HTML object>"
            ],
            "text/html": [
              "\n",
              "  <style>\n",
              "    pre {\n",
              "        white-space: pre-wrap;\n",
              "    }\n",
              "  </style>\n",
              "  "
            ]
          },
          "metadata": {}
        }
      ]
    },
    {
      "cell_type": "code",
      "metadata": {
        "colab": {
          "base_uri": "https://localhost:8080/",
          "height": 303
        },
        "id": "6ntAaZaAXZLW",
        "outputId": "01c2d949-7685-444c-d5c8-7e32a406a18c"
      },
      "source": [
        "# Select Non-Numerical Columns\n",
        "data_column_category = Banking_Marketing_df.select_dtypes (exclude=[np.number]).columns\n",
        "print (data_column_category)\n",
        "print (Banking_Marketing_df[data_column_category].head())"
      ],
      "execution_count": null,
      "outputs": [
        {
          "output_type": "display_data",
          "data": {
            "text/plain": [
              "<IPython.core.display.HTML object>"
            ],
            "text/html": [
              "\n",
              "  <style>\n",
              "    pre {\n",
              "        white-space: pre-wrap;\n",
              "    }\n",
              "  </style>\n",
              "  "
            ]
          },
          "metadata": {}
        },
        {
          "output_type": "stream",
          "name": "stdout",
          "text": [
            "Index(['job', 'marital', 'education', 'default', 'housing', 'loan', 'contact',\n",
            "       'month', 'day_of_week', 'poutcome'],\n",
            "      dtype='object')\n",
            "           job  marital          education  default housing loan   contact  \\\n",
            "0  blue-collar  married           basic.4y  unknown     yes   no  cellular   \n",
            "1   technician  married            unknown       no      no   no  cellular   \n",
            "2   management   single  university.degree       no     yes   no  cellular   \n",
            "3     services  married        high.school       no      no   no  cellular   \n",
            "4      retired  married           basic.4y       no     yes   no  cellular   \n",
            "\n",
            "  month day_of_week     poutcome  \n",
            "0   aug         thu  nonexistent  \n",
            "1   nov         fri  nonexistent  \n",
            "2   jun         thu      success  \n",
            "3   apr         fri  nonexistent  \n",
            "4   aug         fri      success  \n"
          ]
        }
      ]
    },
    {
      "cell_type": "code",
      "metadata": {
        "id": "qV8Dn8RZXe6Y",
        "colab": {
          "base_uri": "https://localhost:8080/",
          "height": 17
        },
        "outputId": "09b80dfd-a934-479f-e88d-45ac0fb86032"
      },
      "source": [
        "# Iterate through column to convert to numeric data using LabelEncoder ()\n",
        "label_encoder = LabelEncoder()\n",
        "for i in data_column_category:\n",
        "    Banking_Marketing_df[i] = label_encoder.fit_transform (Banking_Marketing_df[i])"
      ],
      "execution_count": null,
      "outputs": [
        {
          "output_type": "display_data",
          "data": {
            "text/plain": [
              "<IPython.core.display.HTML object>"
            ],
            "text/html": [
              "\n",
              "  <style>\n",
              "    pre {\n",
              "        white-space: pre-wrap;\n",
              "    }\n",
              "  </style>\n",
              "  "
            ]
          },
          "metadata": {}
        }
      ]
    },
    {
      "cell_type": "code",
      "metadata": {
        "colab": {
          "base_uri": "https://localhost:8080/",
          "height": 428
        },
        "id": "b82mNoC6WqIO",
        "outputId": "c60eeede-c46b-4932-9efa-0d96cd23ebf4"
      },
      "source": [
        "print(\"Label Encoder Data:\")\n",
        "print(Banking_Marketing_df.head())"
      ],
      "execution_count": null,
      "outputs": [
        {
          "output_type": "display_data",
          "data": {
            "text/plain": [
              "<IPython.core.display.HTML object>"
            ],
            "text/html": [
              "\n",
              "  <style>\n",
              "    pre {\n",
              "        white-space: pre-wrap;\n",
              "    }\n",
              "  </style>\n",
              "  "
            ]
          },
          "metadata": {}
        },
        {
          "output_type": "stream",
          "name": "stdout",
          "text": [
            "Label Encoder Data:\n",
            "    age  job  marital  education  default  housing  loan  contact  month  \\\n",
            "0  44.0    1        1          1        1        2     1        0      1   \n",
            "1  53.0    9        1          8        0        0     1        0      7   \n",
            "2  28.0    4        2          7        0        2     1        0      4   \n",
            "3  39.0    7        1          4        0        0     1        0      0   \n",
            "4  55.0    5        1          1        0        2     1        0      1   \n",
            "\n",
            "   day_of_week  ...  campaign  pdays  previous  poutcome  emp_var_rate  \\\n",
            "0            2  ...         1    999         0         1           1.4   \n",
            "1            0  ...         1    999         0         1          -0.1   \n",
            "2            2  ...         3      6         2         2          -1.7   \n",
            "3            0  ...         2    999         0         1          -1.8   \n",
            "4            0  ...         1      3         1         2          -2.9   \n",
            "\n",
            "   cons_price_idx  cons_conf_idx  euribor3m  nr_employed  y  \n",
            "0          93.444          -36.1      4.963       5228.1  0  \n",
            "1          93.200          -42.0      4.021       5195.8  0  \n",
            "2          94.055          -39.8      0.729       4991.6  1  \n",
            "3          93.075          -47.1      1.405       5099.1  0  \n",
            "4          92.201          -31.4      0.869       5076.2  1  \n",
            "\n",
            "[5 rows x 21 columns]\n"
          ]
        }
      ]
    },
    {
      "cell_type": "markdown",
      "metadata": {
        "id": "cuYsnGqtYDX8"
      },
      "source": [
        "### **3.3 - Transforming Data of Different Scale**\n",
        "\n",
        "Dataset:\n",
        "- Wholesale customers data.csv"
      ]
    },
    {
      "cell_type": "code",
      "metadata": {
        "id": "OE3t1PeEY7h3",
        "colab": {
          "base_uri": "https://localhost:8080/",
          "height": 17
        },
        "outputId": "3f12d379-e2c4-4a34-c13d-7f6935b0f596"
      },
      "source": [
        "DATA_DIR_5 = \"/content/gdrive/MyDrive/Colab Notebooks/220919-ITS61504/Wholesale customers data.csv\""
      ],
      "execution_count": null,
      "outputs": [
        {
          "output_type": "display_data",
          "data": {
            "text/plain": [
              "<IPython.core.display.HTML object>"
            ],
            "text/html": [
              "\n",
              "  <style>\n",
              "    pre {\n",
              "        white-space: pre-wrap;\n",
              "    }\n",
              "  </style>\n",
              "  "
            ]
          },
          "metadata": {}
        }
      ]
    },
    {
      "cell_type": "code",
      "metadata": {
        "colab": {
          "base_uri": "https://localhost:8080/",
          "height": 124
        },
        "id": "Wu33SYYKZQVq",
        "outputId": "70a59e43-fc8a-40bf-8db5-bf65e2df085d"
      },
      "source": [
        "# Read Dataset\n",
        "from sklearn import preprocessing\n",
        "WholesaleData_df = pd.read_csv (DATA_DIR_5, header=0)\n",
        "print (WholesaleData_df.head())"
      ],
      "execution_count": null,
      "outputs": [
        {
          "output_type": "display_data",
          "data": {
            "text/plain": [
              "<IPython.core.display.HTML object>"
            ],
            "text/html": [
              "\n",
              "  <style>\n",
              "    pre {\n",
              "        white-space: pre-wrap;\n",
              "    }\n",
              "  </style>\n",
              "  "
            ]
          },
          "metadata": {}
        },
        {
          "output_type": "stream",
          "name": "stdout",
          "text": [
            "   Channel  Region  Fresh  Milk  Grocery  Frozen  Detergents_Paper  Delicassen\n",
            "0        2       3  12669  9656     7561     214              2674        1338\n",
            "1        2       3   7057  9810     9568    1762              3293        1776\n",
            "2        2       3   6353  8808     7684    2405              3516        7844\n",
            "3        1       3  13265  1196     4221    6404               507        1788\n",
            "4        2       3  22615  5410     7198    3915              1777        5185\n"
          ]
        }
      ]
    },
    {
      "cell_type": "code",
      "metadata": {
        "id": "TeOYfh9AZmgp",
        "colab": {
          "base_uri": "https://localhost:8080/",
          "height": 17
        },
        "outputId": "e3324ca0-93d1-418d-86dd-8dfbcb9d794e"
      },
      "source": [
        "null_ = WholesaleData_df.isna().any()"
      ],
      "execution_count": null,
      "outputs": [
        {
          "output_type": "display_data",
          "data": {
            "text/plain": [
              "<IPython.core.display.HTML object>"
            ],
            "text/html": [
              "\n",
              "  <style>\n",
              "    pre {\n",
              "        white-space: pre-wrap;\n",
              "    }\n",
              "  </style>\n",
              "  "
            ]
          },
          "metadata": {}
        }
      ]
    },
    {
      "cell_type": "code",
      "metadata": {
        "id": "vjHGtltZZrm_",
        "colab": {
          "base_uri": "https://localhost:8080/",
          "height": 17
        },
        "outputId": "935caafa-bd70-4f98-faea-709ff2cd625b"
      },
      "source": [
        "dtypes = WholesaleData_df.dtypes"
      ],
      "execution_count": null,
      "outputs": [
        {
          "output_type": "display_data",
          "data": {
            "text/plain": [
              "<IPython.core.display.HTML object>"
            ],
            "text/html": [
              "\n",
              "  <style>\n",
              "    pre {\n",
              "        white-space: pre-wrap;\n",
              "    }\n",
              "  </style>\n",
              "  "
            ]
          },
          "metadata": {}
        }
      ]
    },
    {
      "cell_type": "code",
      "metadata": {
        "colab": {
          "base_uri": "https://localhost:8080/",
          "height": 178
        },
        "id": "COWm82cIZulX",
        "outputId": "9f6e4cf3-ad51-4c9e-f335-eee3f0aac5fb"
      },
      "source": [
        "# Check for Missing Data\n",
        "null_ = WholesaleData_df.isna().any()\n",
        "dtypes = WholesaleData_df.dtypes\n",
        "info = pd.concat ([null_,dtypes], axis = 1, keys = ['Null', 'type'])\n",
        "print(info) # This is different way of viewing data"
      ],
      "execution_count": null,
      "outputs": [
        {
          "output_type": "display_data",
          "data": {
            "text/plain": [
              "<IPython.core.display.HTML object>"
            ],
            "text/html": [
              "\n",
              "  <style>\n",
              "    pre {\n",
              "        white-space: pre-wrap;\n",
              "    }\n",
              "  </style>\n",
              "  "
            ]
          },
          "metadata": {}
        },
        {
          "output_type": "stream",
          "name": "stdout",
          "text": [
            "                   Null   type\n",
            "Channel           False  int64\n",
            "Region            False  int64\n",
            "Fresh             False  int64\n",
            "Milk              False  int64\n",
            "Grocery           False  int64\n",
            "Frozen            False  int64\n",
            "Detergents_Paper  False  int64\n",
            "Delicassen        False  int64\n"
          ]
        }
      ]
    },
    {
      "cell_type": "code",
      "metadata": {
        "colab": {
          "base_uri": "https://localhost:8080/",
          "height": 249
        },
        "id": "0NgTOMbfZ4-b",
        "outputId": "c086e8f7-dd9e-4ebf-bb3d-3ae4dcabbbbf"
      },
      "source": [
        "# Perform Standard Scaling and Implement fit_transform () method\n",
        "std_scale = preprocessing.StandardScaler().fit_transform (WholesaleData_df)\n",
        "scaled_frame = pd.DataFrame (std_scale, columns = WholesaleData_df.columns)\n",
        "print (scaled_frame.head())"
      ],
      "execution_count": null,
      "outputs": [
        {
          "output_type": "display_data",
          "data": {
            "text/plain": [
              "<IPython.core.display.HTML object>"
            ],
            "text/html": [
              "\n",
              "  <style>\n",
              "    pre {\n",
              "        white-space: pre-wrap;\n",
              "    }\n",
              "  </style>\n",
              "  "
            ]
          },
          "metadata": {}
        },
        {
          "output_type": "stream",
          "name": "stdout",
          "text": [
            "    Channel    Region     Fresh      Milk   Grocery    Frozen  \\\n",
            "0  1.448652  0.590668  0.052933  0.523568 -0.041115 -0.589367   \n",
            "1  1.448652  0.590668 -0.391302  0.544458  0.170318 -0.270136   \n",
            "2  1.448652  0.590668 -0.447029  0.408538 -0.028157 -0.137536   \n",
            "3 -0.690297  0.590668  0.100111 -0.624020 -0.392977  0.687144   \n",
            "4  1.448652  0.590668  0.840239 -0.052396 -0.079356  0.173859   \n",
            "\n",
            "   Detergents_Paper  Delicassen  \n",
            "0         -0.043569   -0.066339  \n",
            "1          0.086407    0.089151  \n",
            "2          0.133232    2.243293  \n",
            "3         -0.498588    0.093411  \n",
            "4         -0.231918    1.299347  \n"
          ]
        }
      ]
    },
    {
      "cell_type": "code",
      "metadata": {
        "colab": {
          "base_uri": "https://localhost:8080/",
          "height": 249
        },
        "id": "spZ1itnmYDvs",
        "outputId": "86dc8325-8250-4584-f4e4-edc2a780b155"
      },
      "source": [
        "# Using MinMax Scaler Method\n",
        "minmax_scale = preprocessing.MinMaxScaler().fit_transform (WholesaleData_df)\n",
        "scaled_frame = pd.DataFrame (minmax_scale, columns = WholesaleData_df.columns)\n",
        "print (scaled_frame.head())"
      ],
      "execution_count": null,
      "outputs": [
        {
          "output_type": "display_data",
          "data": {
            "text/plain": [
              "<IPython.core.display.HTML object>"
            ],
            "text/html": [
              "\n",
              "  <style>\n",
              "    pre {\n",
              "        white-space: pre-wrap;\n",
              "    }\n",
              "  </style>\n",
              "  "
            ]
          },
          "metadata": {}
        },
        {
          "output_type": "stream",
          "name": "stdout",
          "text": [
            "   Channel  Region     Fresh      Milk   Grocery    Frozen  Detergents_Paper  \\\n",
            "0      1.0     1.0  0.112940  0.130727  0.081464  0.003106          0.065427   \n",
            "1      1.0     1.0  0.062899  0.132824  0.103097  0.028548          0.080590   \n",
            "2      1.0     1.0  0.056622  0.119181  0.082790  0.039116          0.086052   \n",
            "3      0.0     1.0  0.118254  0.015536  0.045464  0.104842          0.012346   \n",
            "4      1.0     1.0  0.201626  0.072914  0.077552  0.063934          0.043455   \n",
            "\n",
            "   Delicassen  \n",
            "0    0.027847  \n",
            "1    0.036984  \n",
            "2    0.163559  \n",
            "3    0.037234  \n",
            "4    0.108093  \n"
          ]
        }
      ]
    },
    {
      "cell_type": "markdown",
      "source": [
        "**P/s:**\n",
        "\n",
        "**StandardScaler** follows Standard Normal Distribution (SND). Therefore, it makes mean = 0 and scales the data to unit variance.\n",
        "\n",
        "**MinMaxScaler** scales all the data features in the range [0, 1] or else in the range [-1, 1] if there are negative values in the dataset"
      ],
      "metadata": {
        "id": "Gw3vDEiOHmwS"
      }
    },
    {
      "cell_type": "markdown",
      "metadata": {
        "id": "cqJ7R3vhaUwO"
      },
      "source": [
        "### **4. Data Discretization**\n",
        "A process of converting continuous data into discrete buckets by grouping it.\n",
        "\n",
        "Benefits of Data Discretization:\n",
        "- Easy maintainability of data\n",
        "- Training of Machine Learning models will be faster and more effective\n",
        "\n",
        "Dataset:\n",
        "Student_bucketing.csv"
      ]
    },
    {
      "cell_type": "code",
      "metadata": {
        "id": "kcFwqH1DavVQ",
        "colab": {
          "base_uri": "https://localhost:8080/",
          "height": 17
        },
        "outputId": "f41b3c23-7a83-4a95-b659-4bb75088e9f5"
      },
      "source": [
        "DATA_DIR_6 = \"/content/gdrive/MyDrive/Colab Notebooks/220919-ITS61504/Student_bucketing.csv\""
      ],
      "execution_count": null,
      "outputs": [
        {
          "output_type": "display_data",
          "data": {
            "text/plain": [
              "<IPython.core.display.HTML object>"
            ],
            "text/html": [
              "\n",
              "  <style>\n",
              "    pre {\n",
              "        white-space: pre-wrap;\n",
              "    }\n",
              "  </style>\n",
              "  "
            ]
          },
          "metadata": {}
        }
      ]
    },
    {
      "cell_type": "code",
      "metadata": {
        "colab": {
          "base_uri": "https://localhost:8080/",
          "height": 124
        },
        "id": "0xsEdnRraHRi",
        "outputId": "8a41cc66-2128-41b5-d66f-25297693ad28"
      },
      "source": [
        "StudentBucketing_df = pd.read_csv (DATA_DIR_6, header=0)\n",
        "print (StudentBucketing_df.head())"
      ],
      "execution_count": null,
      "outputs": [
        {
          "output_type": "display_data",
          "data": {
            "text/plain": [
              "<IPython.core.display.HTML object>"
            ],
            "text/html": [
              "\n",
              "  <style>\n",
              "    pre {\n",
              "        white-space: pre-wrap;\n",
              "    }\n",
              "  </style>\n",
              "  "
            ]
          },
          "metadata": {}
        },
        {
          "output_type": "stream",
          "name": "stdout",
          "text": [
            "   Student_id  Age      Grade Employed  marks\n",
            "0           1   19  1st Class      yes     29\n",
            "1           2   20  2nd Class       no     41\n",
            "2           3   18  1st Class       no     57\n",
            "3           4   21  2nd Class       no     29\n",
            "4           5   19  1st Class       no     57\n"
          ]
        }
      ]
    },
    {
      "cell_type": "code",
      "metadata": {
        "id": "Dw7Cpbj4aphP",
        "colab": {
          "base_uri": "https://localhost:8080/",
          "height": 213
        },
        "outputId": "767a4160-d112-497f-d3e8-03fc27d46a7a"
      },
      "source": [
        "# Perform Bucketing using pd.cut ()\n",
        "StudentBucketing_df['bucket']=pd.cut(StudentBucketing_df['marks'], 5, labels = ['Poor', 'Below_average', 'Average', 'Above_Average','Excellent'])\n",
        "print (StudentBucketing_df.head(10))"
      ],
      "execution_count": null,
      "outputs": [
        {
          "output_type": "display_data",
          "data": {
            "text/plain": [
              "<IPython.core.display.HTML object>"
            ],
            "text/html": [
              "\n",
              "  <style>\n",
              "    pre {\n",
              "        white-space: pre-wrap;\n",
              "    }\n",
              "  </style>\n",
              "  "
            ]
          },
          "metadata": {}
        },
        {
          "output_type": "stream",
          "name": "stdout",
          "text": [
            "   Student_id  Age      Grade Employed  marks         bucket\n",
            "0           1   19  1st Class      yes     29           Poor\n",
            "1           2   20  2nd Class       no     41  Below_average\n",
            "2           3   18  1st Class       no     57        Average\n",
            "3           4   21  2nd Class       no     29           Poor\n",
            "4           5   19  1st Class       no     57        Average\n",
            "5           6   20  2nd Class      yes     53        Average\n",
            "6           7   19  3rd Class      yes     78  Above_Average\n",
            "7           8   21  3rd Class      yes     70  Above_Average\n",
            "8           9   22  3rd Class      yes     97      Excellent\n",
            "9          10   21  1st Class       no     58        Average\n"
          ]
        }
      ]
    },
    {
      "cell_type": "code",
      "metadata": {
        "colab": {
          "base_uri": "https://localhost:8080/",
          "height": 213
        },
        "id": "j4WGgQxSba3o",
        "outputId": "8b2c41f2-ec94-465f-b30e-037f0f83a644"
      },
      "source": [
        "StudentBucketing_df['Performance']=pd.cut(StudentBucketing_df['marks'], 3, labels = ['Poor', 'Average','Excellent'])\n",
        "print (StudentBucketing_df.head(10))"
      ],
      "execution_count": null,
      "outputs": [
        {
          "output_type": "display_data",
          "data": {
            "text/plain": [
              "<IPython.core.display.HTML object>"
            ],
            "text/html": [
              "\n",
              "  <style>\n",
              "    pre {\n",
              "        white-space: pre-wrap;\n",
              "    }\n",
              "  </style>\n",
              "  "
            ]
          },
          "metadata": {}
        },
        {
          "output_type": "stream",
          "name": "stdout",
          "text": [
            "   Student_id  Age      Grade Employed  marks         bucket Performance\n",
            "0           1   19  1st Class      yes     29           Poor        Poor\n",
            "1           2   20  2nd Class       no     41  Below_average        Poor\n",
            "2           3   18  1st Class       no     57        Average     Average\n",
            "3           4   21  2nd Class       no     29           Poor        Poor\n",
            "4           5   19  1st Class       no     57        Average     Average\n",
            "5           6   20  2nd Class      yes     53        Average     Average\n",
            "6           7   19  3rd Class      yes     78  Above_Average   Excellent\n",
            "7           8   21  3rd Class      yes     70  Above_Average     Average\n",
            "8           9   22  3rd Class      yes     97      Excellent   Excellent\n",
            "9          10   21  1st Class       no     58        Average     Average\n"
          ]
        }
      ]
    },
    {
      "cell_type": "code",
      "metadata": {
        "colab": {
          "base_uri": "https://localhost:8080/",
          "height": 213
        },
        "id": "AprXoJ9QctOq",
        "outputId": "6512a294-ebe2-4acc-b01f-92f732dd3256"
      },
      "source": [
        "# Perform Bucketing using pd.cut ()\n",
        "StudentBucketing_df['bucket']=pd.cut(StudentBucketing_df['marks'], 3, labels = ['Poor', 'Average', 'Excellent'])\n",
        "print (StudentBucketing_df.head(10))"
      ],
      "execution_count": null,
      "outputs": [
        {
          "output_type": "display_data",
          "data": {
            "text/plain": [
              "<IPython.core.display.HTML object>"
            ],
            "text/html": [
              "\n",
              "  <style>\n",
              "    pre {\n",
              "        white-space: pre-wrap;\n",
              "    }\n",
              "  </style>\n",
              "  "
            ]
          },
          "metadata": {}
        },
        {
          "output_type": "stream",
          "name": "stdout",
          "text": [
            "   Student_id  Age      Grade Employed  marks     bucket Performance\n",
            "0           1   19  1st Class      yes     29       Poor        Poor\n",
            "1           2   20  2nd Class       no     41       Poor        Poor\n",
            "2           3   18  1st Class       no     57    Average     Average\n",
            "3           4   21  2nd Class       no     29       Poor        Poor\n",
            "4           5   19  1st Class       no     57    Average     Average\n",
            "5           6   20  2nd Class      yes     53    Average     Average\n",
            "6           7   19  3rd Class      yes     78  Excellent   Excellent\n",
            "7           8   21  3rd Class      yes     70    Average     Average\n",
            "8           9   22  3rd Class      yes     97  Excellent   Excellent\n",
            "9          10   21  1st Class       no     58    Average     Average\n"
          ]
        }
      ]
    },
    {
      "cell_type": "markdown",
      "metadata": {
        "id": "0vt4TRTWfYcH"
      },
      "source": [
        
      ]
    }
  ]
}
